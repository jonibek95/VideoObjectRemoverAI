{
 "cells": [
  {
   "cell_type": "code",
   "execution_count": null,
   "metadata": {},
   "outputs": [],
   "source": []
  },
  {
   "cell_type": "code",
   "execution_count": 7,
   "metadata": {},
   "outputs": [],
   "source": [
    "import cv2\n",
    "import numpy as np\n",
    "import os\n",
    "import glob\n",
    "\n",
    "# Function to apply mask to an image\n",
    "def apply_mask(original_image, mask_image):\n",
    "    # Convert the mask to a binary mask if it's not already\n",
    "    _, binary_mask = cv2.threshold(mask_image, 128, 255, cv2.THRESH_BINARY)\n",
    "\n",
    "    # Apply the mask to keep the person and remove the background\n",
    "    foreground = cv2.bitwise_and(original_image, original_image, mask=binary_mask)\n",
    "    return foreground\n",
    "\n",
    "# Function to process images in a directory using corresponding masks\n",
    "def process_images_with_masks(images_dir, masks_dir, output_dir):\n",
    "    # Find all original images\n",
    "    original_img_paths = glob.glob(os.path.join(images_dir, '*.png'))\n",
    "    \n",
    "    processed_images = []\n",
    "    for original_path in original_img_paths:\n",
    "        # Corresponding mask path\n",
    "        filename = os.path.basename(original_path)\n",
    "        mask_path = os.path.join(masks_dir, filename.replace('.png', '.png'))\n",
    "        \n",
    "        # Load images\n",
    "        original_image = cv2.imread(original_path)\n",
    "        mask_image = cv2.imread(mask_path, cv2.IMREAD_GRAYSCALE)\n",
    "\n",
    "        # Apply mask\n",
    "        result_image = apply_mask(original_image, mask_image)\n",
    "\n",
    "        # Save the result\n",
    "        output_path = os.path.join(output_dir, f\"processed_{filename}\")\n",
    "        cv2.imwrite(output_path, result_image)\n",
    "        processed_images.append(output_path)\n",
    "\n",
    "    return processed_images\n",
    "\n",
    "# Function to create a video from images\n",
    "def create_video_from_images(image_paths, video_path, frame_rate=30):\n",
    "    first_image = cv2.imread(image_paths[0])\n",
    "    height, width, layers = first_image.shape\n",
    "    video_size = (width, height)\n",
    "\n",
    "    video = cv2.VideoWriter(video_path, cv2.VideoWriter_fourcc(*'mp4v'), frame_rate, video_size)\n",
    "\n",
    "    for image in image_paths:\n",
    "        video.write(cv2.imread(image))\n",
    "\n",
    "    video.release()\n",
    "\n",
    "# Example usage:\n",
    "images_dir = './input/frames'\n",
    "masks_dir = './input/masks'\n",
    "output_dir = './output/processed_images'\n",
    "video_path = './output/removed _background.mp4'\n",
    "removed_images = process_images_with_masks(images_dir, masks_dir, output_dir)\n",
    "create_video_from_images(removed_images, video_path)\n"
   ]
  },
  {
   "cell_type": "code",
   "execution_count": null,
   "metadata": {},
   "outputs": [],
   "source": []
  },
  {
   "cell_type": "code",
   "execution_count": null,
   "metadata": {},
   "outputs": [],
   "source": []
  },
  {
   "cell_type": "code",
   "execution_count": null,
   "metadata": {},
   "outputs": [],
   "source": []
  }
 ],
 "metadata": {
  "kernelspec": {
   "display_name": "mocap",
   "language": "python",
   "name": "python3"
  },
  "language_info": {
   "name": "python",
   "version": "0.0.0"
  }
 },
 "nbformat": 4,
 "nbformat_minor": 2
}
